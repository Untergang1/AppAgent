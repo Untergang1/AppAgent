{
 "cells": [
  {
   "cell_type": "code",
   "execution_count": 2,
   "id": "cd53b7f5-4788-4b0c-9593-11bd5e3ca361",
   "metadata": {},
   "outputs": [
    {
     "name": "stderr",
     "output_type": "stream",
     "text": [
      "/Users/untergang/miniconda3/envs/AppAgent/lib/python3.10/site-packages/sentence_transformers/cross_encoder/CrossEncoder.py:13: TqdmExperimentalWarning: Using `tqdm.autonotebook.tqdm` in notebook mode. Use `tqdm.tqdm` instead to force console mode (e.g. in jupyter console)\n",
      "  from tqdm.autonotebook import tqdm, trange\n"
     ]
    }
   ],
   "source": [
    "import os\n",
    "\n",
    "from sentence_transformers import SentenceTransformer\n",
    "import neo4j\n",
    "\n",
    "URI = 'bolt://localhost:7687'\n",
    "AUTH = (os.getenv('NEO4J_USERNAME'), os.getenv('NOE4J_PASSWORD'))\n",
    "DB_NAME = 'AppAgent'  # examples: 'recommendations-50', 'neo4j'"
   ]
  },
  {
   "cell_type": "code",
   "execution_count": null,
   "id": "21032fac-ba40-4a84-b824-e1a1a4caa140",
   "metadata": {},
   "outputs": [],
   "source": []
  }
 ],
 "metadata": {
  "kernelspec": {
   "display_name": "AppAgent",
   "language": "python",
   "name": "appagent"
  },
  "language_info": {
   "codemirror_mode": {
    "name": "ipython",
    "version": 3
   },
   "file_extension": ".py",
   "mimetype": "text/x-python",
   "name": "python",
   "nbconvert_exporter": "python",
   "pygments_lexer": "ipython3",
   "version": "3.10.15"
  }
 },
 "nbformat": 4,
 "nbformat_minor": 5
}
